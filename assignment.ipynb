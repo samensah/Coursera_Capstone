{
 "cells": [
  {
   "cell_type": "markdown",
   "metadata": {},
   "source": [
    "# Battle of Neighborhoods\n",
    "## Capstone project assignment - Samuel Mensah"
   ]
  },
  {
   "cell_type": "code",
   "execution_count": 3,
   "metadata": {},
   "outputs": [
    {
     "name": "stdout",
     "output_type": "stream",
     "text": [
      "Libraries imported.\n"
     ]
    }
   ],
   "source": [
    "# import necessary packages\n",
    "from bs4 import BeautifulSoup\n",
    "import requests\n",
    "import numpy as np\n",
    "import pandas as pd\n",
    "pd.set_option('display.max_columns', None)\n",
    "pd.set_option('display.max_rows', None)\n",
    "from IPython.display import HTML\n",
    "import scipy.spatial as spatial\n",
    "import json\n",
    "from geopy.geocoders import Nominatim     # convert an address into latitude and longitude values\n",
    "from pandas.io.json import json_normalize # tranform JSON file into a pandas dataframe\n",
    "import matplotlib.cm as cm\n",
    "import matplotlib.colors as colors\n",
    "from sklearn.cluster import KMeans\n",
    "import folium # map rendering library\n",
    "print('Libraries imported.')"
   ]
  },
  {
   "cell_type": "markdown",
   "metadata": {},
   "source": [
    "### Business Problem"
   ]
  },
  {
   "cell_type": "markdown",
   "metadata": {},
   "source": [
    "KPMG Ghana is an independent member firm of the KPMG Global Network. Yearly, KPMG Ghana allows their colleagues to be transferred to partner firms in either Leeds or Manchester in the UK. However, in doing so, they need information about the neighborhoods of Leeds or Manchester, to enable their colleagues to make informed decisions since they will be staying in either of these places for a long time.\n",
    "\n",
    "When moving to a distant country, it is important to get relevant information about the city you are to reside in. Colleagues at KPMG Ghana who have not been to these cities and are used to their environments, will need to know before hand if the city have neighborhoods which can provide them with the services or activities they need, else a hesitant colleague may easily decide not to go because of fear of the unknown. For example, they might be interested in a specific type of cuisine like an African cuisine. Does any of the neighborhood in Leeds or Manchester have African restaurants?\n",
    "\n",
    "Can we cluster the neighborhoods of Manchester and Leeds according to venues to determine the best city which will be suitable for a KPMG Ghana colleague who has specific preferences?"
   ]
  },
  {
   "cell_type": "markdown",
   "metadata": {},
   "source": [
    "### Data Description"
   ]
  },
  {
   "cell_type": "markdown",
   "metadata": {},
   "source": [
    "This problem requires a location data for Manchester and Leeds, along with venues within the neighborhood of Leeds so as to inform colleagues of KPMG Ghana about the services, recreational centres, malls, shops, gyms, parks and other venues which might be of interest.\n",
    "\n",
    "1. First of all we need location data for Leeds and Manchester. We can find this data online. The link below\n",
    "    - Leeds Data: https://en.wikipedia.org/wiki/List_of_places_in_Leeds\n",
    "    - Manchester: https://en.wikipedia.org/wiki/M_postcode_area"
   ]
  },
  {
   "cell_type": "markdown",
   "metadata": {},
   "source": [
    "#### Lets view the data for Leeds from the link"
   ]
  },
  {
   "cell_type": "code",
   "execution_count": 6,
   "metadata": {},
   "outputs": [
    {
     "data": {
      "text/html": [
       "<div>\n",
       "<style scoped>\n",
       "    .dataframe tbody tr th:only-of-type {\n",
       "        vertical-align: middle;\n",
       "    }\n",
       "\n",
       "    .dataframe tbody tr th {\n",
       "        vertical-align: top;\n",
       "    }\n",
       "\n",
       "    .dataframe thead th {\n",
       "        text-align: right;\n",
       "    }\n",
       "</style>\n",
       "<table border=\"1\" class=\"dataframe\">\n",
       "  <thead>\n",
       "    <tr style=\"text-align: right;\">\n",
       "      <th></th>\n",
       "      <th></th>\n",
       "      <th>Neighborhood</th>\n",
       "      <th>Leeds City Council Ward</th>\n",
       "      <th>Parliamentary Constituency</th>\n",
       "      <th>Management Area</th>\n",
       "      <th>PostCode</th>\n",
       "      <th>PostTown</th>\n",
       "      <th>Pre-1974 authority</th>\n",
       "      <th>Note</th>\n",
       "      <th></th>\n",
       "    </tr>\n",
       "  </thead>\n",
       "  <tbody>\n",
       "    <tr>\n",
       "      <th>1</th>\n",
       "      <td></td>\n",
       "      <td>Aberford</td>\n",
       "      <td>Harewood</td>\n",
       "      <td>Elmet &amp; Roth.</td>\n",
       "      <td>NE Outer</td>\n",
       "      <td>LS25</td>\n",
       "      <td>LEEDS</td>\n",
       "      <td>Tadcaster RD</td>\n",
       "      <td></td>\n",
       "      <td></td>\n",
       "    </tr>\n",
       "    <tr>\n",
       "      <th>2</th>\n",
       "      <td></td>\n",
       "      <td>Adel</td>\n",
       "      <td>Adel &amp; Wharfedale</td>\n",
       "      <td>Leeds NW</td>\n",
       "      <td>NW Outer</td>\n",
       "      <td>LS16</td>\n",
       "      <td>LEEDS</td>\n",
       "      <td>Leeds CB</td>\n",
       "      <td></td>\n",
       "      <td></td>\n",
       "    </tr>\n",
       "    <tr>\n",
       "      <th>3</th>\n",
       "      <td></td>\n",
       "      <td>Adwalton</td>\n",
       "      <td>Morley North</td>\n",
       "      <td>Morley &amp; Out.</td>\n",
       "      <td>S Outer</td>\n",
       "      <td>BD11</td>\n",
       "      <td>BRADFORD</td>\n",
       "      <td>Morley MB</td>\n",
       "      <td></td>\n",
       "      <td></td>\n",
       "    </tr>\n",
       "    <tr>\n",
       "      <th>4</th>\n",
       "      <td></td>\n",
       "      <td>Ainsty</td>\n",
       "      <td>Wetherby</td>\n",
       "      <td>Elmet &amp; Roth.</td>\n",
       "      <td>NE Outer</td>\n",
       "      <td>LS22</td>\n",
       "      <td>WETHERBY</td>\n",
       "      <td>Wetherby RD</td>\n",
       "      <td></td>\n",
       "      <td></td>\n",
       "    </tr>\n",
       "    <tr>\n",
       "      <th>5</th>\n",
       "      <td></td>\n",
       "      <td>Aireborough</td>\n",
       "      <td></td>\n",
       "      <td></td>\n",
       "      <td></td>\n",
       "      <td></td>\n",
       "      <td>LEEDS</td>\n",
       "      <td>Aireborough UD</td>\n",
       "      <td></td>\n",
       "      <td></td>\n",
       "    </tr>\n",
       "  </tbody>\n",
       "</table>\n",
       "</div>"
      ],
      "text/plain": [
       "    Neighborhood Leeds City Council Ward Parliamentary Constituency  \\\n",
       "1       Aberford                Harewood              Elmet & Roth.   \n",
       "2           Adel       Adel & Wharfedale                   Leeds NW   \n",
       "3       Adwalton            Morley North              Morley & Out.   \n",
       "4         Ainsty                Wetherby              Elmet & Roth.   \n",
       "5    Aireborough                                                      \n",
       "\n",
       "  Management Area PostCode  PostTown Pre-1974 authority Note    \n",
       "1        NE Outer     LS25     LEEDS       Tadcaster RD         \n",
       "2        NW Outer     LS16     LEEDS           Leeds CB         \n",
       "3         S Outer     BD11  BRADFORD          Morley MB         \n",
       "4        NE Outer     LS22  WETHERBY        Wetherby RD         \n",
       "5                              LEEDS     Aireborough UD         "
      ]
     },
     "execution_count": 6,
     "metadata": {},
     "output_type": "execute_result"
    }
   ],
   "source": [
    "leeds_html_url = 'https://en.wikipedia.org/wiki/List_of_places_in_Leeds'\n",
    "leeds_source   = requests.get(leeds_html_url).text\n",
    "leeds_soup     = BeautifulSoup(leeds_source, 'html.parser')\n",
    "\n",
    "# find table using soup object\n",
    "leeds_table = leeds_soup.find(\"table\", class_=\"wikitable sortable\") \n",
    "# get all rows from table\n",
    "leeds_all_rows    = leeds_table.find_all('tr')\n",
    "# loop over rows and get placenames for Leeds\n",
    "for count, row in enumerate(leeds_all_rows):\n",
    "    if count == 0: \n",
    "        column_names  = ['','Neighborhood','Leeds City Council Ward','Parliamentary Constituency',\\\n",
    "                         'Management Area','PostCode','PostTown','Pre-1974 authority','Note','']\n",
    "        leeds_hoods = pd.DataFrame(columns=column_names) # instantiate dataframe\n",
    "    else:\n",
    "        leeds_hoods.loc[count] = row.text.split('\\n')\n",
    "leeds_hoods.head()"
   ]
  },
  {
   "cell_type": "markdown",
   "metadata": {},
   "source": [
    "#### Lets view the data for Manchester from the link"
   ]
  },
  {
   "cell_type": "code",
   "execution_count": 8,
   "metadata": {},
   "outputs": [
    {
     "data": {
      "text/html": [
       "<div>\n",
       "<style scoped>\n",
       "    .dataframe tbody tr th:only-of-type {\n",
       "        vertical-align: middle;\n",
       "    }\n",
       "\n",
       "    .dataframe tbody tr th {\n",
       "        vertical-align: top;\n",
       "    }\n",
       "\n",
       "    .dataframe thead th {\n",
       "        text-align: right;\n",
       "    }\n",
       "</style>\n",
       "<table border=\"1\" class=\"dataframe\">\n",
       "  <thead>\n",
       "    <tr style=\"text-align: right;\">\n",
       "      <th></th>\n",
       "      <th></th>\n",
       "      <th>PostCode</th>\n",
       "      <th></th>\n",
       "      <th>PostTown</th>\n",
       "      <th></th>\n",
       "      <th>Neighborhood</th>\n",
       "      <th></th>\n",
       "      <th>Area</th>\n",
       "      <th></th>\n",
       "    </tr>\n",
       "  </thead>\n",
       "  <tbody>\n",
       "    <tr>\n",
       "      <th>1</th>\n",
       "      <td></td>\n",
       "      <td>M1</td>\n",
       "      <td></td>\n",
       "      <td>MANCHESTER</td>\n",
       "      <td></td>\n",
       "      <td>Piccadilly, City Centre, Market Street</td>\n",
       "      <td></td>\n",
       "      <td>Manchester</td>\n",
       "      <td></td>\n",
       "    </tr>\n",
       "    <tr>\n",
       "      <th>2</th>\n",
       "      <td></td>\n",
       "      <td>M2</td>\n",
       "      <td></td>\n",
       "      <td>MANCHESTER</td>\n",
       "      <td></td>\n",
       "      <td>Deansgate, City Centre</td>\n",
       "      <td></td>\n",
       "      <td>Manchester</td>\n",
       "      <td></td>\n",
       "    </tr>\n",
       "    <tr>\n",
       "      <th>3</th>\n",
       "      <td></td>\n",
       "      <td>M3(Sectors 1, 2, 3, 4 and 9)</td>\n",
       "      <td></td>\n",
       "      <td>MANCHESTER</td>\n",
       "      <td></td>\n",
       "      <td>City Centre, Deansgate,  Castlefield</td>\n",
       "      <td></td>\n",
       "      <td>Manchester</td>\n",
       "      <td></td>\n",
       "    </tr>\n",
       "    <tr>\n",
       "      <th>4</th>\n",
       "      <td></td>\n",
       "      <td>M3(Sectors 5, 6 and 7)</td>\n",
       "      <td></td>\n",
       "      <td>SALFORD</td>\n",
       "      <td></td>\n",
       "      <td>City Centre, Blackfriars, Greengate, Trinity</td>\n",
       "      <td></td>\n",
       "      <td>Salford</td>\n",
       "      <td></td>\n",
       "    </tr>\n",
       "    <tr>\n",
       "      <th>5</th>\n",
       "      <td></td>\n",
       "      <td>M4</td>\n",
       "      <td></td>\n",
       "      <td>MANCHESTER</td>\n",
       "      <td></td>\n",
       "      <td>Ancoats, Northern Quarter, Strangeways</td>\n",
       "      <td></td>\n",
       "      <td>Manchester</td>\n",
       "      <td></td>\n",
       "    </tr>\n",
       "  </tbody>\n",
       "</table>\n",
       "</div>"
      ],
      "text/plain": [
       "                         PostCode      PostTown    \\\n",
       "1                              M1    MANCHESTER     \n",
       "2                              M2    MANCHESTER     \n",
       "3    M3(Sectors 1, 2, 3, 4 and 9)    MANCHESTER     \n",
       "4          M3(Sectors 5, 6 and 7)       SALFORD     \n",
       "5                              M4    MANCHESTER     \n",
       "\n",
       "                                   Neighborhood          Area    \n",
       "1        Piccadilly, City Centre, Market Street    Manchester    \n",
       "2                        Deansgate, City Centre    Manchester    \n",
       "3          City Centre, Deansgate,  Castlefield    Manchester    \n",
       "4  City Centre, Blackfriars, Greengate, Trinity       Salford    \n",
       "5        Ancoats, Northern Quarter, Strangeways    Manchester    "
      ]
     },
     "execution_count": 8,
     "metadata": {},
     "output_type": "execute_result"
    }
   ],
   "source": [
    "man_html_url = 'https://en.wikipedia.org/wiki/M_postcode_area'\n",
    "man_source   = requests.get(man_html_url).text\n",
    "man_soup     = BeautifulSoup(man_source, 'html.parser')\n",
    "\n",
    "# find table using soup object\n",
    "man_table     = man_soup.find(\"table\", class_=\"wikitable sortable\") \n",
    "# get all rows from table\n",
    "man_all_rows  = man_table.find_all('tr')\n",
    "# loop over rows and get placenames for Leeds\n",
    "for count, row in enumerate(man_all_rows):\n",
    "    if count == 0: \n",
    "        column_names  = ['','PostCode', '', 'PostTown', '', 'Neighborhood', '', 'Area', '']\n",
    "        man_hoods = pd.DataFrame(columns=column_names) # instantiate dataframe\n",
    "    else:\n",
    "        man_hoods.loc[count] = row.text.split('\\n')\n",
    "man_hoods.head()"
   ]
  },
  {
   "cell_type": "markdown",
   "metadata": {},
   "source": [
    "#### First View of the data"
   ]
  },
  {
   "cell_type": "markdown",
   "metadata": {},
   "source": [
    "As a data scientist it is crucial to know if the datas can solve the problem.\n",
    "\n",
    "As we are interested in the venues of neighborhoods, we find that the Leeds and Manchester data contain the names of neighborhood, post town, postcode, and other attributes. From the first hand, what we need are \n",
    "    - neighborhood name, \n",
    "    - venues\n",
    "    - postcode, \n",
    "    - post town, \n",
    "    - and geographical coordinates for Manchester and Leeds. \n",
    "    \n",
    "However, we find that venues and geographical coordinates are missing in the data.  \n",
    "Luckily, python provides a library called **geopy** which can transform an address to latitudes and longitudes  \n",
    "    - We exploit this library for our work.  \n",
    "Moreover **FourSquare** provides venues for places or neighborhoods in their developer portal.  \n",
    "    - We exploit FourSquare to get venues of neighborhoods\n",
    "\n",
    "Moreover, the Manchester and Leeds Data will need some preprocessing as we find a lot of duplicates even in the first five rows of Neigborhood."
   ]
  },
  {
   "cell_type": "markdown",
   "metadata": {},
   "source": [
    "#### Lets view venues in the centre of Leeds using FourSquare"
   ]
  },
  {
   "cell_type": "code",
   "execution_count": 10,
   "metadata": {},
   "outputs": [
    {
     "name": "stdout",
     "output_type": "stream",
     "text": [
      "Your credentails:\n",
      "CLIENT_ID: ",
      "CLIENT_SECRET: "
     ]
    }
   ],
   "source": [
    "CLIENT_ID = ' '#'your-client-ID' # your Foursquare ID\n",
    "CLIENT_SECRET = ' ' # your Foursquare Secret\n",
    "VERSION = '20180604'\n",
    "LIMIT = 30\n",
    "print('Your credentails:')\n",
    "print('CLIENT_ID: ' + CLIENT_ID)\n",
    "print('CLIENT_SECRET:' + CLIENT_SECRET)"
   ]
  },
  {
   "cell_type": "markdown",
   "metadata": {},
   "source": [
    "##### Get the coordinates of Leeds"
   ]
  },
  {
   "cell_type": "code",
   "execution_count": 12,
   "metadata": {},
   "outputs": [
    {
     "name": "stdout",
     "output_type": "stream",
     "text": [
      "53.7974185 -1.5437941\n"
     ]
    }
   ],
   "source": [
    "address = 'Leeds, UK'\n",
    "\n",
    "geolocator = Nominatim(user_agent=\"foursquare_agent\")\n",
    "location   = geolocator.geocode(address)\n",
    "latitude   = location.latitude\n",
    "longitude  = location.longitude\n",
    "print(latitude, longitude)"
   ]
  },
  {
   "cell_type": "markdown",
   "metadata": {},
   "source": [
    "Create url for foursquare"
   ]
  },
  {
   "cell_type": "code",
   "execution_count": 13,
   "metadata": {},
   "outputs": [
    {
     "data": {
      "text/plain": [
       "'https://api.foursquare.com/v2/venues/explore?&client_id=&client_secret=&v=20180604&ll=53.7974185,-1.5437941&radius=500&limit=100'"
      ]
     },
     "execution_count": 13,
     "metadata": {},
     "output_type": "execute_result"
    }
   ],
   "source": [
    "LIMIT = 100 # limit of number of venues returned by Foursquare API\n",
    "radius = 500 # define radius\n",
    "# create URL\n",
    "url = 'https://api.foursquare.com/v2/venues/explore?&client_id={}&client_secret={}&v={}&ll={},{}&radius={}&limit={}'.format(\n",
    "    CLIENT_ID, \n",
    "    CLIENT_SECRET, \n",
    "    VERSION, \n",
    "    latitude, \n",
    "    longitude, \n",
    "    radius, \n",
    "    LIMIT)\n",
    "url # display URL"
   ]
  },
  {
   "cell_type": "code",
   "execution_count": 14,
   "metadata": {},
   "outputs": [],
   "source": [
    "results = requests.get(url).json()"
   ]
  },
  {
   "cell_type": "code",
   "execution_count": 15,
   "metadata": {},
   "outputs": [],
   "source": [
    "# function that extracts the category of the venue\n",
    "def get_category_type(row):\n",
    "    try:\n",
    "        categories_list = row['categories']\n",
    "    except:\n",
    "        categories_list = row['venue.categories']\n",
    "        \n",
    "    if len(categories_list) == 0:\n",
    "        return None\n",
    "    else:\n",
    "        return categories_list[0]['name']"
   ]
  },
  {
   "cell_type": "markdown",
   "metadata": {},
   "source": [
    "Preprocess and list up to 100 venues around Leeds"
   ]
  },
  {
   "cell_type": "code",
   "execution_count": 17,
   "metadata": {},
   "outputs": [
    {
     "data": {
      "text/html": [
       "<div>\n",
       "<style scoped>\n",
       "    .dataframe tbody tr th:only-of-type {\n",
       "        vertical-align: middle;\n",
       "    }\n",
       "\n",
       "    .dataframe tbody tr th {\n",
       "        vertical-align: top;\n",
       "    }\n",
       "\n",
       "    .dataframe thead th {\n",
       "        text-align: right;\n",
       "    }\n",
       "</style>\n",
       "<table border=\"1\" class=\"dataframe\">\n",
       "  <thead>\n",
       "    <tr style=\"text-align: right;\">\n",
       "      <th></th>\n",
       "      <th>name</th>\n",
       "      <th>categories</th>\n",
       "      <th>lat</th>\n",
       "      <th>lng</th>\n",
       "    </tr>\n",
       "  </thead>\n",
       "  <tbody>\n",
       "    <tr>\n",
       "      <th>0</th>\n",
       "      <td>Victoria Quarter</td>\n",
       "      <td>Shopping Mall</td>\n",
       "      <td>53.798170</td>\n",
       "      <td>-1.540943</td>\n",
       "    </tr>\n",
       "    <tr>\n",
       "      <th>1</th>\n",
       "      <td>Trinity Leeds</td>\n",
       "      <td>Shopping Mall</td>\n",
       "      <td>53.796525</td>\n",
       "      <td>-1.543937</td>\n",
       "    </tr>\n",
       "    <tr>\n",
       "      <th>2</th>\n",
       "      <td>Headrow House</td>\n",
       "      <td>Bar</td>\n",
       "      <td>53.798837</td>\n",
       "      <td>-1.541118</td>\n",
       "    </tr>\n",
       "    <tr>\n",
       "      <th>3</th>\n",
       "      <td>Whitelocks Ale House</td>\n",
       "      <td>Pub</td>\n",
       "      <td>53.797270</td>\n",
       "      <td>-1.542922</td>\n",
       "    </tr>\n",
       "    <tr>\n",
       "      <th>4</th>\n",
       "      <td>Patisserie Valerie</td>\n",
       "      <td>Café</td>\n",
       "      <td>53.797691</td>\n",
       "      <td>-1.545136</td>\n",
       "    </tr>\n",
       "    <tr>\n",
       "      <th>5</th>\n",
       "      <td>The LEGO Store</td>\n",
       "      <td>Toy / Game Store</td>\n",
       "      <td>53.796535</td>\n",
       "      <td>-1.544166</td>\n",
       "    </tr>\n",
       "    <tr>\n",
       "      <th>6</th>\n",
       "      <td>Apple Trinity Leeds</td>\n",
       "      <td>Electronics Store</td>\n",
       "      <td>53.796711</td>\n",
       "      <td>-1.543848</td>\n",
       "    </tr>\n",
       "    <tr>\n",
       "      <th>7</th>\n",
       "      <td>Mrs Athas</td>\n",
       "      <td>Coffee Shop</td>\n",
       "      <td>53.796542</td>\n",
       "      <td>-1.541268</td>\n",
       "    </tr>\n",
       "    <tr>\n",
       "      <th>8</th>\n",
       "      <td>Laynes Espresso</td>\n",
       "      <td>Coffee Shop</td>\n",
       "      <td>53.795323</td>\n",
       "      <td>-1.544939</td>\n",
       "    </tr>\n",
       "    <tr>\n",
       "      <th>9</th>\n",
       "      <td>Waterstones</td>\n",
       "      <td>Bookstore</td>\n",
       "      <td>53.798872</td>\n",
       "      <td>-1.545217</td>\n",
       "    </tr>\n",
       "  </tbody>\n",
       "</table>\n",
       "</div>"
      ],
      "text/plain": [
       "                   name         categories        lat       lng\n",
       "0      Victoria Quarter      Shopping Mall  53.798170 -1.540943\n",
       "1         Trinity Leeds      Shopping Mall  53.796525 -1.543937\n",
       "2         Headrow House                Bar  53.798837 -1.541118\n",
       "3  Whitelocks Ale House                Pub  53.797270 -1.542922\n",
       "4    Patisserie Valerie               Café  53.797691 -1.545136\n",
       "5        The LEGO Store   Toy / Game Store  53.796535 -1.544166\n",
       "6   Apple Trinity Leeds  Electronics Store  53.796711 -1.543848\n",
       "7             Mrs Athas        Coffee Shop  53.796542 -1.541268\n",
       "8       Laynes Espresso        Coffee Shop  53.795323 -1.544939\n",
       "9           Waterstones          Bookstore  53.798872 -1.545217"
      ]
     },
     "execution_count": 17,
     "metadata": {},
     "output_type": "execute_result"
    }
   ],
   "source": [
    "venues = results['response']['groups'][0]['items']\n",
    "    \n",
    "nearby_venues = json_normalize(venues) # flatten JSON\n",
    "\n",
    "# filter columns\n",
    "filtered_columns = ['venue.name', 'venue.categories', 'venue.location.lat', 'venue.location.lng']\n",
    "nearby_venues =nearby_venues.loc[:, filtered_columns]\n",
    "\n",
    "# filter the category for each row\n",
    "nearby_venues['venue.categories'] = nearby_venues.apply(get_category_type, axis=1)\n",
    "\n",
    "# clean columns\n",
    "nearby_venues.columns = [col.split(\".\")[-1] for col in nearby_venues.columns]\n",
    "\n",
    "nearby_venues.head(10)"
   ]
  },
  {
   "cell_type": "markdown",
   "metadata": {},
   "source": [
    "#### Lets view venues in the centre of Manchester using FourSquare"
   ]
  },
  {
   "cell_type": "code",
   "execution_count": 19,
   "metadata": {},
   "outputs": [
    {
     "name": "stdout",
     "output_type": "stream",
     "text": [
      "53.7974185 -1.5437941\n"
     ]
    }
   ],
   "source": [
    "address = 'Manchester, UK'\n",
    "\n",
    "location   = geolocator.geocode(address)\n",
    "manlatitude   = location.latitude\n",
    "manlongitude  = location.longitude\n",
    "print(latitude, longitude)"
   ]
  },
  {
   "cell_type": "code",
   "execution_count": 20,
   "metadata": {},
   "outputs": [
    {
     "data": {
      "text/plain": [
       "'https://api.foursquare.com/v2/venues/explore?&client_id=&client_secret=&v=20180604&ll=53.4794892,-2.2451148&radius=500&limit=100'"
      ]
     },
     "execution_count": 20,
     "metadata": {},
     "output_type": "execute_result"
    }
   ],
   "source": [
    "LIMIT = 100 # limit of number of venues returned by Foursquare API\n",
    "radius = 500 # define radius\n",
    "# create URL\n",
    "url = 'https://api.foursquare.com/v2/venues/explore?&client_id={}&client_secret={}&v={}&ll={},{}&radius={}&limit={}'.format(\n",
    "    CLIENT_ID, \n",
    "    CLIENT_SECRET, \n",
    "    VERSION, \n",
    "    manlatitude, \n",
    "    manlongitude, \n",
    "    radius, \n",
    "    LIMIT)\n",
    "url # display URL"
   ]
  },
  {
   "cell_type": "code",
   "execution_count": 21,
   "metadata": {},
   "outputs": [],
   "source": [
    "man_results = requests.get(url).json()"
   ]
  },
  {
   "cell_type": "code",
   "execution_count": 22,
   "metadata": {},
   "outputs": [
    {
     "data": {
      "text/html": [
       "<div>\n",
       "<style scoped>\n",
       "    .dataframe tbody tr th:only-of-type {\n",
       "        vertical-align: middle;\n",
       "    }\n",
       "\n",
       "    .dataframe tbody tr th {\n",
       "        vertical-align: top;\n",
       "    }\n",
       "\n",
       "    .dataframe thead th {\n",
       "        text-align: right;\n",
       "    }\n",
       "</style>\n",
       "<table border=\"1\" class=\"dataframe\">\n",
       "  <thead>\n",
       "    <tr style=\"text-align: right;\">\n",
       "      <th></th>\n",
       "      <th>name</th>\n",
       "      <th>categories</th>\n",
       "      <th>lat</th>\n",
       "      <th>lng</th>\n",
       "    </tr>\n",
       "  </thead>\n",
       "  <tbody>\n",
       "    <tr>\n",
       "      <th>0</th>\n",
       "      <td>Albert Square</td>\n",
       "      <td>Plaza</td>\n",
       "      <td>53.479465</td>\n",
       "      <td>-2.245202</td>\n",
       "    </tr>\n",
       "    <tr>\n",
       "      <th>1</th>\n",
       "      <td>Piccolino</td>\n",
       "      <td>Italian Restaurant</td>\n",
       "      <td>53.479971</td>\n",
       "      <td>-2.244511</td>\n",
       "    </tr>\n",
       "    <tr>\n",
       "      <th>2</th>\n",
       "      <td>El Gato Negro Tapas</td>\n",
       "      <td>Tapas Restaurant</td>\n",
       "      <td>53.481092</td>\n",
       "      <td>-2.245695</td>\n",
       "    </tr>\n",
       "    <tr>\n",
       "      <th>3</th>\n",
       "      <td>My Thai</td>\n",
       "      <td>Thai Restaurant</td>\n",
       "      <td>53.480385</td>\n",
       "      <td>-2.245574</td>\n",
       "    </tr>\n",
       "    <tr>\n",
       "      <th>4</th>\n",
       "      <td>BrewDog Manchester</td>\n",
       "      <td>Beer Bar</td>\n",
       "      <td>53.478083</td>\n",
       "      <td>-2.247319</td>\n",
       "    </tr>\n",
       "    <tr>\n",
       "      <th>5</th>\n",
       "      <td>King Street Townhouse</td>\n",
       "      <td>Hotel</td>\n",
       "      <td>53.480226</td>\n",
       "      <td>-2.243271</td>\n",
       "    </tr>\n",
       "    <tr>\n",
       "      <th>6</th>\n",
       "      <td>Manchester Art Gallery</td>\n",
       "      <td>Art Gallery</td>\n",
       "      <td>53.478882</td>\n",
       "      <td>-2.241817</td>\n",
       "    </tr>\n",
       "    <tr>\n",
       "      <th>7</th>\n",
       "      <td>Rapha Cycle Club</td>\n",
       "      <td>Bike Shop</td>\n",
       "      <td>53.481246</td>\n",
       "      <td>-2.245734</td>\n",
       "    </tr>\n",
       "    <tr>\n",
       "      <th>8</th>\n",
       "      <td>Albert's Schloss</td>\n",
       "      <td>Bar</td>\n",
       "      <td>53.478178</td>\n",
       "      <td>-2.247747</td>\n",
       "    </tr>\n",
       "    <tr>\n",
       "      <th>9</th>\n",
       "      <td>The Octagon at The Midland</td>\n",
       "      <td>Lounge</td>\n",
       "      <td>53.477624</td>\n",
       "      <td>-2.244868</td>\n",
       "    </tr>\n",
       "  </tbody>\n",
       "</table>\n",
       "</div>"
      ],
      "text/plain": [
       "                         name          categories        lat       lng\n",
       "0               Albert Square               Plaza  53.479465 -2.245202\n",
       "1                   Piccolino  Italian Restaurant  53.479971 -2.244511\n",
       "2         El Gato Negro Tapas    Tapas Restaurant  53.481092 -2.245695\n",
       "3                     My Thai     Thai Restaurant  53.480385 -2.245574\n",
       "4          BrewDog Manchester            Beer Bar  53.478083 -2.247319\n",
       "5       King Street Townhouse               Hotel  53.480226 -2.243271\n",
       "6      Manchester Art Gallery         Art Gallery  53.478882 -2.241817\n",
       "7            Rapha Cycle Club           Bike Shop  53.481246 -2.245734\n",
       "8            Albert's Schloss                 Bar  53.478178 -2.247747\n",
       "9  The Octagon at The Midland              Lounge  53.477624 -2.244868"
      ]
     },
     "execution_count": 22,
     "metadata": {},
     "output_type": "execute_result"
    }
   ],
   "source": [
    "venues = man_results['response']['groups'][0]['items']\n",
    "    \n",
    "nearby_venues = json_normalize(venues) # flatten JSON\n",
    "\n",
    "# filter columns\n",
    "filtered_columns = ['venue.name', 'venue.categories', 'venue.location.lat', 'venue.location.lng']\n",
    "nearby_venues =nearby_venues.loc[:, filtered_columns]\n",
    "\n",
    "# filter the category for each row\n",
    "nearby_venues['venue.categories'] = nearby_venues.apply(get_category_type, axis=1)\n",
    "\n",
    "# clean columns\n",
    "nearby_venues.columns = [col.split(\".\")[-1] for col in nearby_venues.columns]\n",
    "\n",
    "nearby_venues.head(10)"
   ]
  },
  {
   "cell_type": "markdown",
   "metadata": {},
   "source": [
    "We find interesting venues for both Manchester City Centre and Leeds City Centre,  \n",
    "however we are interested in the venues of neigborhoods as well. In the coming days   \n",
    "we will proceed to analyse the data with visualization using maps, and perform clustering  \n",
    "and other techniques to extract knowledge from the data"
   ]
  },
  {
   "cell_type": "code",
   "execution_count": null,
   "metadata": {},
   "outputs": [],
   "source": []
  }
 ],
 "metadata": {
  "kernelspec": {
   "display_name": "Python 3",
   "language": "python",
   "name": "python3"
  },
  "language_info": {
   "codemirror_mode": {
    "name": "ipython",
    "version": 3
   },
   "file_extension": ".py",
   "mimetype": "text/x-python",
   "name": "python",
   "nbconvert_exporter": "python",
   "pygments_lexer": "ipython3",
   "version": "3.6.8"
  }
 },
 "nbformat": 4,
 "nbformat_minor": 2
}
